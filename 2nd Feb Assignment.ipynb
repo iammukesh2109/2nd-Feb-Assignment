{
 "cells": [
  {
   "cell_type": "code",
   "execution_count": 1,
   "id": "a0900f83-253d-4054-a8b2-ad65277d8e40",
   "metadata": {},
   "outputs": [
    {
     "name": "stdout",
     "output_type": "stream",
     "text": [
      "1\n",
      "2\n",
      "3\n",
      "4\n",
      "5\n",
      "6\n",
      "7\n",
      "8\n",
      "9\n",
      "10\n"
     ]
    }
   ],
   "source": [
    "#1. Explain with an example each when to use a for loop and a while loop.\n",
    "\"\"\"A for loop is typically used when you know the number of times you want to repeat a certain block of code. For example, if we want to print the\n",
    "numbers from 1 to 10, you can use a for loop as follows:\"\"\"\n",
    "for i in range(1, 11):\n",
    "    print(i)\n"
   ]
  },
  {
   "cell_type": "code",
   "execution_count": 2,
   "id": "79e7b194-d75f-4b6c-84d6-118c77874c76",
   "metadata": {},
   "outputs": [
    {
     "name": "stdin",
     "output_type": "stream",
     "text": [
      "Enter number: 10\n"
     ]
    },
    {
     "name": "stdout",
     "output_type": "stream",
     "text": [
      "10\n",
      "9\n",
      "8\n",
      "7\n",
      "6\n",
      "5\n",
      "4\n",
      "3\n",
      "2\n",
      "1\n"
     ]
    }
   ],
   "source": [
    "\"\"\"a while loop is used when you want to repeat a block of code until a certain condition is met. For example, if you want to keep asking the user \n",
    "for input until they enter a valid number, you can use a while loop as follows:\"\"\"\n",
    "a= int(input(\"Enter number:\"))\n",
    "while a>0:\n",
    "    print(a)\n",
    "    a=a-1"
   ]
  },
  {
   "cell_type": "code",
   "execution_count": 3,
   "id": "977a68bf-731e-4537-90d7-f6d99e5deffd",
   "metadata": {},
   "outputs": [
    {
     "name": "stdout",
     "output_type": "stream",
     "text": [
      "The sum of first 10 natural numbers is: 55\n",
      "The product of first 10 natural numbers is: 3628800\n"
     ]
    }
   ],
   "source": [
    "#2.Write a python program to print the sum and product of first 10 natural numbers using for and while loop.\n",
    "# Calculate sum of first 10 natural numbers using for loop\n",
    "sum = 0\n",
    "for i in range(1, 11):\n",
    "    sum += i\n",
    "\n",
    "print(\"The sum of first 10 natural numbers is:\", sum)\n",
    "\n",
    "# Calculate product of first 10 natural numbers using for loop\n",
    "product = 1\n",
    "for i in range(1, 11):\n",
    "    product *= i\n",
    "\n",
    "print(\"The product of first 10 natural numbers is:\", product)\n"
   ]
  },
  {
   "cell_type": "code",
   "execution_count": 4,
   "id": "460ae8a2-db02-402d-a2ff-b70f79e7c388",
   "metadata": {},
   "outputs": [
    {
     "name": "stdout",
     "output_type": "stream",
     "text": [
      "The sum of first 10 natural numbers is: 55\n",
      "The product of first 10 natural numbers is: 3628800\n"
     ]
    }
   ],
   "source": [
    "# Calculate sum of first 10 natural numbers using while loop\n",
    "sum = 0\n",
    "i = 1\n",
    "while i <= 10:\n",
    "    sum += i\n",
    "    i += 1\n",
    "\n",
    "print(\"The sum of first 10 natural numbers is:\", sum)\n",
    "\n",
    "# Calculate product of first 10 natural numbers using while loop\n",
    "product = 1\n",
    "i = 1\n",
    "while i <= 10:\n",
    "    product *= i\n",
    "    i += 1\n",
    "\n",
    "print(\"The product of first 10 natural numbers is:\", product)\n"
   ]
  },
  {
   "cell_type": "code",
   "execution_count": 5,
   "id": "89d49daa-86a7-4ec0-beaa-1875a638d433",
   "metadata": {},
   "outputs": [
    {
     "name": "stdin",
     "output_type": "stream",
     "text": [
      "Enter the number of units consumed:  310\n"
     ]
    },
    {
     "name": "stdout",
     "output_type": "stream",
     "text": [
      "The electricity bill for this month is: Rs. 2250.0\n"
     ]
    }
   ],
   "source": [
    "#3. Create a python program to compute the electricity bill for a household. The per-unit charges in rupees are as follows : \n",
    "\"\"\"For the first 100 units, the user will be charged for Rs. 4.5 per unit , for the next 100 units , the user will be charged for Rs. 6 per unit, and \n",
    "for the next 100 units, the user will be charged Rs. 10 per unit, After 300 units and above the user will be charged Rs. 20 per unit.\n",
    "You are required to take the units of electricity consumed in a month from the users as input.\n",
    "Your program must this test case: when the unit of electricity consumed by the user in a month is 310, the total electricity bill should be 2250.\"\"\"\n",
    "# Get the units consumed from the user\n",
    "units_consumed = int(input(\"Enter the number of units consumed: \"))\n",
    "\n",
    "# Calculate the bill amount\n",
    "if units_consumed <= 100:\n",
    "    bill_amount = units_consumed * 4.5\n",
    "elif units_consumed <= 200:\n",
    "    bill_amount = 100 * 4.5 + (units_consumed - 100) * 6\n",
    "elif units_consumed <= 300:\n",
    "    bill_amount = 100 * 4.5 + 100 * 6 + (units_consumed - 200) * 10\n",
    "else:\n",
    "    bill_amount = 100 * 4.5 + 100 * 6 + 100 * 10 + (units_consumed - 300) * 20\n",
    "\n",
    "# Print the bill amount\n",
    "print(\"The electricity bill for this month is: Rs.\", bill_amount)\n"
   ]
  },
  {
   "cell_type": "code",
   "execution_count": 6,
   "id": "8eb3f4fb-518b-472c-ba26-e6672fd520fe",
   "metadata": {},
   "outputs": [
    {
     "name": "stdout",
     "output_type": "stream",
     "text": [
      "List of numbers whose cubes are divisible by 4 or 5:\n",
      "[2, 4, 5, 6, 8, 10, 12, 14, 15, 16, 18, 20, 22, 24, 25, 26, 28, 30, 32, 34, 35, 36, 38, 40, 42, 44, 45, 46, 48, 50, 52, 54, 55, 56, 58, 60, 62, 64, 65, 66, 68, 70, 72, 74, 75, 76, 78, 80, 82, 84, 85, 86, 88, 90, 92, 94, 95, 96, 98, 100]\n"
     ]
    }
   ],
   "source": [
    "#4.Create the list of numbers from 1 to 100. Use for loop and while loop to calculate the cube of each number and if the cube of that number is\n",
    "#divisible by 4 or 5 then append that number in a list and print the list.\n",
    "\n",
    "#Using for loop\n",
    "# Create the list of numbers from 1 to 100\n",
    "numbers = list(range(1, 101))\n",
    "\n",
    "# Calculate the cube of each number using for loop\n",
    "cubes = []\n",
    "for num in numbers:\n",
    "    cube = num ** 3\n",
    "    if cube % 4 == 0 or cube % 5 == 0:\n",
    "        cubes.append(num)\n",
    "\n",
    "# Print the list of numbers whose cubes are divisible by 4 or 5\n",
    "print(\"List of numbers whose cubes are divisible by 4 or 5:\")\n",
    "print(cubes)\n"
   ]
  },
  {
   "cell_type": "code",
   "execution_count": 11,
   "id": "22d57b60-b40b-4b6e-9187-6364b3f79523",
   "metadata": {},
   "outputs": [
    {
     "name": "stdout",
     "output_type": "stream",
     "text": [
      "List of numbers whose cubes are divisible by 4 or 5:\n",
      "[2, 4, 5, 6, 8, 10, 12, 14, 15, 16, 18, 20, 22, 24, 25, 26, 28, 30, 32, 34, 35, 36, 38, 40, 42, 44, 45, 46, 48, 50, 52, 54, 55, 56, 58, 60, 62, 64, 65, 66, 68, 70, 72, 74, 75, 76, 78, 80, 82, 84, 85, 86, 88, 90, 92, 94, 95, 96, 98, 100]\n"
     ]
    }
   ],
   "source": [
    "#Using while loop\n",
    "# Create the list of numbers from 1 to 100\n",
    "numbers = list(range(1, 101))\n",
    "\n",
    "# Calculate the cube of each number using while loop\n",
    "cubes = []\n",
    "i = 1\n",
    "while i < len(numbers):\n",
    "    cube = numbers[i] ** 3\n",
    "    if cube % 4 == 0 or cube % 5 == 0:\n",
    "        cubes.append(numbers[i])\n",
    "    i += 1\n",
    "\n",
    "# Print the list of numbers whose cubes are divisible by 4 or 5\n",
    "print(\"List of numbers whose cubes are divisible by 4 or 5:\")\n",
    "print(cubes)\n"
   ]
  },
  {
   "cell_type": "code",
   "execution_count": 13,
   "id": "94707274-3341-4c9e-ad05-89f54d2d7e18",
   "metadata": {},
   "outputs": [
    {
     "data": {
      "text/plain": [
       "True"
      ]
     },
     "execution_count": 13,
     "metadata": {},
     "output_type": "execute_result"
    }
   ],
   "source": [
    "#5.Write a program to filter count vowels in the below-given string.\n",
    "#string=\"I want to became a data scientist\"\n",
    "# Define the string\n",
    "string = \"I want to become a data scientist\"\n",
    "\n",
    "# Define a list of vowels\n",
    "vowels = ['a', 'e', 'i', 'o', 'u']\n",
    "\n",
    "# Initialize a variable to store the vowel count\n",
    "vowel_count = 0\n",
    "\n",
    "# Loop through each character in the string and check if it's a vowel\n",
    "for char in string.lower():\n",
    "    if char in vowels:\n",
    "        vowel_count += 1\n",
    "\n",
    "# Print the vowel count\n",
    "print(\"The number of vowels in the string is:\", vowel_count)\n"
   ]
  },
  {
   "cell_type": "code",
   "execution_count": null,
   "id": "0c3b86f7-9111-474f-8a80-589ae1fd6df4",
   "metadata": {},
   "outputs": [],
   "source": []
  }
 ],
 "metadata": {
  "kernelspec": {
   "display_name": "Python 3 (ipykernel)",
   "language": "python",
   "name": "python3"
  },
  "language_info": {
   "codemirror_mode": {
    "name": "ipython",
    "version": 3
   },
   "file_extension": ".py",
   "mimetype": "text/x-python",
   "name": "python",
   "nbconvert_exporter": "python",
   "pygments_lexer": "ipython3",
   "version": "3.10.6"
  }
 },
 "nbformat": 4,
 "nbformat_minor": 5
}
